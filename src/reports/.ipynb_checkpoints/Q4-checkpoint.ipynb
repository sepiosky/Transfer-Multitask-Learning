{
 "cells": [
  {
   "cell_type": "code",
   "execution_count": null,
   "id": "accompanied-fairy",
   "metadata": {},
   "outputs": [],
   "source": [
    "%pwd"
   ]
  },
  {
   "cell_type": "code",
   "execution_count": 6,
   "id": "d821b50d",
   "metadata": {},
   "outputs": [
    {
     "name": "stdout",
     "output_type": "stream",
     "text": [
      "/Users/sepehr/Desktop/UNI/Courses/AdvanceML/AML_HW1/Practical/Q4\n"
     ]
    }
   ],
   "source": [
    "%cd /Users/sepehr/Desktop/UNI/Courses/AdvanceML/AML_HW1/Practical/Q4"
   ]
  },
  {
   "cell_type": "code",
   "execution_count": null,
   "id": "196144fd",
   "metadata": {},
   "outputs": [],
   "source": [
    "!python3 src/scripts/run.py -e pretrain"
   ]
  },
  {
   "cell_type": "code",
   "execution_count": 39,
   "id": "sonic-disabled",
   "metadata": {},
   "outputs": [],
   "source": [
    "PRETRAINED_PATH = 'src/results/pretrain_2022-03-05T23_14_54.665675'"
   ]
  },
  {
   "cell_type": "code",
   "execution_count": null,
   "id": "5504cc7b",
   "metadata": {},
   "outputs": [],
   "source": []
  },
  {
   "cell_type": "code",
   "execution_count": null,
   "id": "0c5c05cb",
   "metadata": {},
   "outputs": [],
   "source": []
  },
  {
   "cell_type": "code",
   "execution_count": 48,
   "id": "891cea01",
   "metadata": {},
   "outputs": [
    {
     "name": "stdout",
     "output_type": "stream",
     "text": [
      "\u001b[93m All Logs & Results Will Be Stored In /Users/sepehr/Desktop/UNI/Courses/AdvanceML/AML_HW1/Practical/Q4/src/results/from_scratch_2022-03-06T14_31_31.704689 \u001b[0m\n",
      "               \u001b[96m ============ Start Training ============ \u001b[0m              \n",
      "                          ========= Epoch: 1 =========                          \n",
      "Batch:0  loss:2.344485282897949  acc:0.0625   elapsed_time:0.18390917778015137\n",
      "Batch:100  loss:1.8427021503448486  acc:0.3125   elapsed_time:13.104583978652954\n",
      "Batch:200  loss:1.594824194908142  acc:0.4375   elapsed_time:12.818642854690552\n",
      "Batch:300  loss:1.7019987106323242  acc:0.5   elapsed_time:12.803655862808228\n",
      "Training:   Loss=1.8977600465982387,    Acc=0.3213141025641026\n",
      "Eval:   Loss=1.7607549708336592,    Acc=0.3671875\n",
      "                          ========= Epoch: 2 =========                          \n",
      "Batch:0  loss:1.8719511032104492  acc:0.25   elapsed_time:2.946458101272583\n",
      "Batch:100  loss:1.432154655456543  acc:0.5   elapsed_time:12.960046768188477\n",
      "Batch:200  loss:1.6088824272155762  acc:0.625   elapsed_time:12.831069946289062\n",
      "Batch:300  loss:2.2577617168426514  acc:0.3125   elapsed_time:12.84982681274414\n",
      "Training:   Loss=1.6142255002871537,    Acc=0.4375\n",
      "Eval:   Loss=1.7785011464729905,    Acc=0.36328125\n",
      "                          ========= Epoch: 3 =========                          \n",
      "Batch:0  loss:2.1169228553771973  acc:0.25   elapsed_time:2.937645196914673\n",
      "Batch:100  loss:1.4483616352081299  acc:0.4375   elapsed_time:12.8109130859375\n",
      "Batch:200  loss:1.1048643589019775  acc:0.75   elapsed_time:12.909300804138184\n",
      "Batch:300  loss:1.7739205360412598  acc:0.5625   elapsed_time:12.859183073043823\n",
      "Training:   Loss=1.4840455508002868,    Acc=0.4873798076923077\n",
      "Eval:   Loss=1.4412834220565856,    Acc=0.51171875\n",
      "                          ========= Epoch: 4 =========                          \n",
      "Batch:0  loss:1.1701910495758057  acc:0.5   elapsed_time:2.968174934387207\n",
      "Batch:100  loss:1.7966289520263672  acc:0.375   elapsed_time:12.846073150634766\n",
      "Batch:200  loss:1.5215849876403809  acc:0.4375   elapsed_time:12.942348957061768\n",
      "Batch:300  loss:0.9190464615821838  acc:0.8125   elapsed_time:12.831451892852783\n",
      "Training:   Loss=1.363350398456439,    Acc=0.5284455128205128\n",
      "Eval:   Loss=1.3132178885862231,    Acc=0.55078125\n",
      "                          ========= Epoch: 5 =========                          \n",
      "Batch:0  loss:1.0465123653411865  acc:0.625   elapsed_time:2.9152729511260986\n",
      "Batch:100  loss:1.0002583265304565  acc:0.75   elapsed_time:12.846175909042358\n",
      "Batch:200  loss:1.2422547340393066  acc:0.5625   elapsed_time:12.802818059921265\n",
      "Batch:300  loss:0.8469101786613464  acc:0.6875   elapsed_time:12.838273048400879\n",
      "Training:   Loss=1.2880549117540703,    Acc=0.5618990384615384\n",
      "Eval:   Loss=1.3806700776331127,    Acc=0.5078125\n",
      "                          ========= Epoch: 6 =========                          \n",
      "Batch:0  loss:1.1820889711380005  acc:0.5   elapsed_time:2.9358437061309814\n",
      "Batch:100  loss:1.4095773696899414  acc:0.5   elapsed_time:12.774348258972168\n",
      "Batch:200  loss:1.4145619869232178  acc:0.625   elapsed_time:12.899890184402466\n",
      "Batch:300  loss:1.5254201889038086  acc:0.4375   elapsed_time:12.848579168319702\n",
      "Training:   Loss=1.1838737926804102,    Acc=0.5951522435897436\n",
      "Eval:   Loss=1.255639729090035,    Acc=0.580078125\n",
      "                          ========= Epoch: 7 =========                          \n",
      "Batch:0  loss:1.2287137508392334  acc:0.5625   elapsed_time:2.926314115524292\n",
      "Batch:100  loss:0.8350878953933716  acc:0.75   elapsed_time:12.847989082336426\n",
      "Batch:200  loss:1.7798140048980713  acc:0.375   elapsed_time:12.828484773635864\n",
      "Batch:300  loss:0.6631789207458496  acc:0.6875   elapsed_time:12.79297685623169\n",
      "Training:   Loss=1.0731922261990035,    Acc=0.6274038461538461\n",
      "Eval:   Loss=1.2631677156314254,    Acc=0.572265625\n",
      "                          ========= Epoch: 8 =========                          \n",
      "Batch:0  loss:1.1500177383422852  acc:0.4375   elapsed_time:2.9786109924316406\n",
      "Batch:100  loss:0.6497076749801636  acc:0.6875   elapsed_time:12.83456802368164\n",
      "Batch:200  loss:1.644169807434082  acc:0.625   elapsed_time:12.783285140991211\n",
      "Batch:300  loss:0.6472840905189514  acc:0.6875   elapsed_time:12.780678987503052\n",
      "Training:   Loss=0.9821888072750508,    Acc=0.6610576923076923\n",
      "Eval:   Loss=1.3622444365173578,    Acc=0.546875\n",
      "                          ========= Epoch: 9 =========                          \n",
      "Batch:0  loss:0.8062649965286255  acc:0.6875   elapsed_time:2.911468029022217\n",
      "Batch:100  loss:0.6628360152244568  acc:0.8125   elapsed_time:12.835675239562988\n",
      "Batch:200  loss:1.2421565055847168  acc:0.5625   elapsed_time:12.86952018737793\n",
      "Batch:300  loss:1.0219634771347046  acc:0.5625   elapsed_time:13.12553596496582\n",
      "Training:   Loss=0.8880303196895581,    Acc=0.6953125\n",
      "Eval:   Loss=1.3628006037324667,    Acc=0.560546875\n",
      "                         ========= Epoch: 10 =========                          \n",
      "Batch:0  loss:0.6625447273254395  acc:0.8125   elapsed_time:2.918144941329956\n",
      "Batch:100  loss:0.8371728658676147  acc:0.75   elapsed_time:12.824546098709106\n",
      "Batch:200  loss:0.8315127491950989  acc:0.75   elapsed_time:12.789403676986694\n",
      "Batch:300  loss:0.5780831575393677  acc:0.8125   elapsed_time:12.758801937103271\n",
      "Training:   Loss=0.7749985518554846,    Acc=0.7255608974358975\n",
      "Eval:   Loss=1.3400963409803808,    Acc=0.580078125\n"
     ]
    }
   ],
   "source": [
    "!python3 src/scripts/run.py -e from_scratch"
   ]
  },
  {
   "cell_type": "code",
   "execution_count": null,
   "id": "8abc52a2",
   "metadata": {},
   "outputs": [],
   "source": []
  },
  {
   "cell_type": "code",
   "execution_count": null,
   "id": "50bc3fc1",
   "metadata": {},
   "outputs": [],
   "source": []
  },
  {
   "cell_type": "code",
   "execution_count": null,
   "id": "caf3a5db",
   "metadata": {},
   "outputs": [],
   "source": []
  },
  {
   "cell_type": "code",
   "execution_count": null,
   "id": "5dd6921a",
   "metadata": {},
   "outputs": [],
   "source": []
  },
  {
   "cell_type": "code",
   "execution_count": null,
   "id": "4e12f7b9",
   "metadata": {},
   "outputs": [],
   "source": []
  },
  {
   "cell_type": "code",
   "execution_count": null,
   "id": "7b38c888",
   "metadata": {},
   "outputs": [],
   "source": []
  },
  {
   "cell_type": "code",
   "execution_count": 49,
   "id": "3bbf53c3",
   "metadata": {},
   "outputs": [
    {
     "name": "stdout",
     "output_type": "stream",
     "text": [
      "\u001b[93m All Logs & Results Will Be Stored In /Users/sepehr/Desktop/UNI/Courses/AdvanceML/AML_HW1/Practical/Q4/src/results/finetune_body_2022-03-06T14_38_28.653404 \u001b[0m\n",
      "               \u001b[96m ============ Start Training ============ \u001b[0m              \n",
      "                          ========= Epoch: 1 =========                          \n",
      "Batch:0  loss:7.788153648376465  acc:0.0   elapsed_time:0.1067657470703125\n",
      "Batch:100  loss:2.9014971256256104  acc:0.1875   elapsed_time:6.7343738079071045\n",
      "Batch:200  loss:2.1978919506073  acc:0.1875   elapsed_time:6.63811993598938\n",
      "Batch:300  loss:2.001072406768799  acc:0.375   elapsed_time:6.761996030807495\n",
      "Training:   Loss=2.491040846858269,    Acc=0.27063301282051283\n",
      "Eval:   Loss=1.7936324123293161,    Acc=0.390625\n",
      "                          ========= Epoch: 2 =========                          \n",
      "Batch:0  loss:1.8792074918746948  acc:0.5   elapsed_time:2.6941721439361572\n",
      "Batch:100  loss:1.9263701438903809  acc:0.1875   elapsed_time:6.784401893615723\n",
      "Batch:200  loss:1.5065052509307861  acc:0.5625   elapsed_time:6.707859039306641\n",
      "Batch:300  loss:1.5610496997833252  acc:0.3125   elapsed_time:6.728044033050537\n",
      "Training:   Loss=1.679005666038929,    Acc=0.4160657051282051\n",
      "Eval:   Loss=1.6118909865617752,    Acc=0.48828125\n",
      "                          ========= Epoch: 3 =========                          \n",
      "Batch:0  loss:1.3509879112243652  acc:0.5   elapsed_time:2.7549569606781006\n",
      "Batch:100  loss:1.8441567420959473  acc:0.375   elapsed_time:6.784722089767456\n",
      "Batch:200  loss:0.7944821119308472  acc:0.875   elapsed_time:6.7216267585754395\n",
      "Batch:300  loss:1.0474522113800049  acc:0.75   elapsed_time:6.68712592124939\n",
      "Training:   Loss=1.502842563467148,    Acc=0.48036858974358976\n",
      "Eval:   Loss=1.5401510167866945,    Acc=0.484375\n",
      "                          ========= Epoch: 4 =========                          \n",
      "Batch:0  loss:0.9077746272087097  acc:0.8125   elapsed_time:2.7434136867523193\n",
      "Batch:100  loss:1.2745596170425415  acc:0.5625   elapsed_time:6.691013813018799\n",
      "Batch:200  loss:1.2036051750183105  acc:0.5625   elapsed_time:6.673060178756714\n",
      "Batch:300  loss:1.2326866388320923  acc:0.625   elapsed_time:6.6847240924835205\n",
      "Training:   Loss=1.3425926843132727,    Acc=0.538261217948718\n",
      "Eval:   Loss=1.505917721427977,    Acc=0.509765625\n",
      "                          ========= Epoch: 5 =========                          \n",
      "Batch:0  loss:1.1386266946792603  acc:0.625   elapsed_time:2.6877801418304443\n",
      "Batch:100  loss:1.1042841672897339  acc:0.5625   elapsed_time:6.677718162536621\n",
      "Batch:200  loss:1.1259998083114624  acc:0.6875   elapsed_time:6.658475875854492\n",
      "Batch:300  loss:1.129724383354187  acc:0.625   elapsed_time:6.663097143173218\n",
      "Training:   Loss=1.186414319735307,    Acc=0.5921474358974359\n",
      "Eval:   Loss=1.5776590574532747,    Acc=0.505859375\n",
      "                          ========= Epoch: 6 =========                          \n",
      "Batch:0  loss:0.9017370939254761  acc:0.5625   elapsed_time:2.672663927078247\n",
      "Batch:100  loss:0.9864603877067566  acc:0.625   elapsed_time:6.700165748596191\n",
      "Batch:200  loss:0.9610370993614197  acc:0.8125   elapsed_time:6.646486043930054\n",
      "Batch:300  loss:0.7683522701263428  acc:0.6875   elapsed_time:6.663011074066162\n",
      "Training:   Loss=1.0380386207730343,    Acc=0.6462339743589743\n",
      "Eval:   Loss=1.6196325551718473,    Acc=0.48828125\n",
      "                          ========= Epoch: 7 =========                          \n",
      "Batch:0  loss:0.5711296796798706  acc:0.875   elapsed_time:2.650869846343994\n",
      "Batch:100  loss:1.3473838567733765  acc:0.5625   elapsed_time:6.646146059036255\n",
      "Batch:200  loss:0.7268730401992798  acc:0.75   elapsed_time:6.676854133605957\n",
      "Batch:300  loss:1.107000470161438  acc:0.625   elapsed_time:6.654623031616211\n",
      "Training:   Loss=0.895332477413691,    Acc=0.6889022435897436\n",
      "Eval:   Loss=1.7611974216997623,    Acc=0.47265625\n",
      "                          ========= Epoch: 8 =========                          \n",
      "Batch:0  loss:0.8617229461669922  acc:0.5625   elapsed_time:2.71453595161438\n",
      "Batch:100  loss:0.6805127859115601  acc:0.75   elapsed_time:6.712667226791382\n",
      "Batch:200  loss:1.2756617069244385  acc:0.625   elapsed_time:6.723906755447388\n",
      "Batch:300  loss:1.2150264978408813  acc:0.6875   elapsed_time:6.700438976287842\n",
      "Training:   Loss=0.7683891339752918,    Acc=0.7399839743589743\n",
      "Eval:   Loss=1.8828021241351962,    Acc=0.4921875\n",
      "                          ========= Epoch: 9 =========                          \n",
      "Batch:0  loss:1.1495763063430786  acc:0.5625   elapsed_time:2.651486396789551\n",
      "Batch:100  loss:0.3903047740459442  acc:0.875   elapsed_time:6.6247711181640625\n",
      "Batch:200  loss:0.5528380870819092  acc:0.875   elapsed_time:6.65143609046936\n",
      "Batch:300  loss:0.5947622060775757  acc:0.8125   elapsed_time:6.647004127502441\n",
      "Training:   Loss=0.6605262629783306,    Acc=0.7702323717948718\n",
      "Eval:   Loss=1.8635855410248041,    Acc=0.47265625\n",
      "                         ========= Epoch: 10 =========                          \n",
      "Batch:0  loss:0.2294786423444748  acc:1.0   elapsed_time:2.6865429878234863\n",
      "Batch:100  loss:0.37693697214126587  acc:0.8125   elapsed_time:6.691619157791138\n",
      "Batch:200  loss:0.6216215491294861  acc:0.8125   elapsed_time:6.664132833480835\n",
      "Batch:300  loss:0.7763217091560364  acc:0.75   elapsed_time:6.660474061965942\n",
      "Training:   Loss=0.5355973730866725,    Acc=0.8177083333333334\n",
      "Eval:   Loss=2.0036404253914952,    Acc=0.458984375\n"
     ]
    }
   ],
   "source": [
    "!python3 src/scripts/run.py -e finetune_body"
   ]
  },
  {
   "cell_type": "code",
   "execution_count": 50,
   "id": "81aca9da",
   "metadata": {},
   "outputs": [
    {
     "name": "stdout",
     "output_type": "stream",
     "text": [
      "\u001b[93m All Logs & Results Will Be Stored In /Users/sepehr/Desktop/UNI/Courses/AdvanceML/AML_HW1/Practical/Q4/src/results/finetune_all_2022-03-06T14_42_18.153328 \u001b[0m\n",
      "               \u001b[96m ============ Start Training ============ \u001b[0m              \n",
      "                          ========= Epoch: 1 =========                          \n",
      "Batch:0  loss:6.529767036437988  acc:0.0625   elapsed_time:0.2058708667755127\n",
      "Batch:100  loss:1.7367265224456787  acc:0.5   elapsed_time:17.143684148788452\n",
      "Batch:200  loss:1.3965734243392944  acc:0.5625   elapsed_time:17.043621063232422\n",
      "Batch:300  loss:1.3846912384033203  acc:0.5   elapsed_time:17.031888008117676\n",
      "Training:   Loss=2.101430915105037,    Acc=0.3874198717948718\n",
      "Eval:   Loss=1.4850087594240904,    Acc=0.47265625\n",
      "                          ========= Epoch: 2 =========                          \n",
      "Batch:0  loss:1.3536043167114258  acc:0.5625   elapsed_time:3.900247097015381\n",
      "Batch:100  loss:1.2615797519683838  acc:0.625   elapsed_time:17.169761896133423\n",
      "Batch:200  loss:1.2014293670654297  acc:0.75   elapsed_time:16.99980092048645\n",
      "Batch:300  loss:1.8432416915893555  acc:0.375   elapsed_time:17.046103954315186\n",
      "Training:   Loss=1.3421056245764096,    Acc=0.5340544871794872\n",
      "Eval:   Loss=1.3610106324777007,    Acc=0.548828125\n",
      "                          ========= Epoch: 3 =========                          \n",
      "Batch:0  loss:1.128745675086975  acc:0.5625   elapsed_time:3.900052070617676\n",
      "Batch:100  loss:0.7074406147003174  acc:0.75   elapsed_time:17.083275079727173\n",
      "Batch:200  loss:0.9319307804107666  acc:0.75   elapsed_time:16.97680401802063\n",
      "Batch:300  loss:1.5687215328216553  acc:0.5   elapsed_time:16.986379861831665\n",
      "Training:   Loss=1.1221434995532036,    Acc=0.6193910256410257\n",
      "Eval:   Loss=1.398488158825785,    Acc=0.53125\n",
      "                          ========= Epoch: 4 =========                          \n",
      "Batch:0  loss:0.878638505935669  acc:0.625   elapsed_time:3.921907901763916\n",
      "Batch:100  loss:0.8312092423439026  acc:0.8125   elapsed_time:16.999871015548706\n",
      "Batch:200  loss:1.148870587348938  acc:0.5625   elapsed_time:17.053126096725464\n",
      "Batch:300  loss:0.8786591291427612  acc:0.5625   elapsed_time:17.035398721694946\n",
      "Training:   Loss=0.8950895660389693,    Acc=0.6977163461538461\n",
      "Eval:   Loss=1.3074537245556712,    Acc=0.578125\n",
      "                          ========= Epoch: 5 =========                          \n",
      "Batch:0  loss:0.734119713306427  acc:0.75   elapsed_time:3.912576913833618\n",
      "Batch:100  loss:0.434160053730011  acc:0.8125   elapsed_time:17.049663066864014\n",
      "Batch:200  loss:1.0329877138137817  acc:0.75   elapsed_time:17.518545150756836\n",
      "Batch:300  loss:0.49216440320014954  acc:0.75   elapsed_time:18.211337327957153\n",
      "Training:   Loss=0.6866618968928472,    Acc=0.7698317307692307\n",
      "Eval:   Loss=1.5607755105011165,    Acc=0.501953125\n",
      "                          ========= Epoch: 6 =========                          \n",
      "Batch:0  loss:0.751805305480957  acc:0.75   elapsed_time:3.896620035171509\n",
      "Batch:100  loss:0.34086909890174866  acc:0.9375   elapsed_time:17.110238313674927\n",
      "Batch:200  loss:0.5118956565856934  acc:0.8125   elapsed_time:17.15584397315979\n",
      "Batch:300  loss:0.6733298301696777  acc:0.75   elapsed_time:17.070793867111206\n",
      "Training:   Loss=0.5233181381168274,    Acc=0.8189102564102564\n",
      "Eval:   Loss=1.7068252069875598,    Acc=0.54296875\n",
      "                          ========= Epoch: 7 =========                          \n",
      "Batch:0  loss:0.11166203022003174  acc:1.0   elapsed_time:3.905197858810425\n",
      "Batch:100  loss:0.10619186609983444  acc:1.0   elapsed_time:17.05288004875183\n",
      "Batch:200  loss:0.36486461758613586  acc:0.75   elapsed_time:17.014869928359985\n",
      "Batch:300  loss:0.5387595295906067  acc:0.8125   elapsed_time:17.037857055664062\n",
      "Training:   Loss=0.3853433436642473,    Acc=0.8691907051282052\n",
      "Eval:   Loss=1.6646612703043502,    Acc=0.55859375\n",
      "                          ========= Epoch: 8 =========                          \n",
      "Batch:0  loss:0.07955276221036911  acc:1.0   elapsed_time:3.9361748695373535\n",
      "Batch:100  loss:0.47139084339141846  acc:0.875   elapsed_time:16.98096799850464\n",
      "Batch:200  loss:0.05751856788992882  acc:1.0   elapsed_time:17.052104949951172\n",
      "Batch:300  loss:0.5615000128746033  acc:0.8125   elapsed_time:17.23474931716919\n",
      "Training:   Loss=0.30363427018985534,    Acc=0.8982371794871795\n",
      "Eval:   Loss=1.8632349676918238,    Acc=0.53515625\n",
      "                          ========= Epoch: 9 =========                          \n",
      "Batch:0  loss:0.10008810460567474  acc:1.0   elapsed_time:3.8908231258392334\n",
      "Batch:100  loss:0.09836405515670776  acc:0.9375   elapsed_time:17.035088062286377\n",
      "Batch:200  loss:0.6011958718299866  acc:0.75   elapsed_time:17.008631706237793\n",
      "Batch:300  loss:0.11594776809215546  acc:0.9375   elapsed_time:17.04172706604004\n",
      "Training:   Loss=0.22865798555983183,    Acc=0.9222756410256411\n",
      "Eval:   Loss=1.9943434346932918,    Acc=0.546875\n",
      "                         ========= Epoch: 10 =========                          \n",
      "Batch:0  loss:0.06419914215803146  acc:1.0   elapsed_time:3.8834521770477295\n",
      "Batch:100  loss:0.028747381642460823  acc:1.0   elapsed_time:16.967745065689087\n",
      "Batch:200  loss:0.21333813667297363  acc:0.875   elapsed_time:17.069480180740356\n",
      "Batch:300  loss:0.05277681350708008  acc:1.0   elapsed_time:17.181076049804688\n",
      "Training:   Loss=0.21768472072644493,    Acc=0.9272836538461539\n",
      "Eval:   Loss=1.9759165960131213,    Acc=0.55859375\n"
     ]
    }
   ],
   "source": [
    "!python3 src/scripts/run.py -e finetune_all"
   ]
  },
  {
   "cell_type": "code",
   "execution_count": null,
   "id": "4d6fa114",
   "metadata": {},
   "outputs": [],
   "source": []
  },
  {
   "cell_type": "code",
   "execution_count": null,
   "id": "6a927678",
   "metadata": {},
   "outputs": [],
   "source": []
  }
 ],
 "metadata": {
  "kernelspec": {
   "display_name": "Python 3 (ipykernel)",
   "language": "python",
   "name": "python3"
  },
  "language_info": {
   "codemirror_mode": {
    "name": "ipython",
    "version": 3
   },
   "file_extension": ".py",
   "mimetype": "text/x-python",
   "name": "python",
   "nbconvert_exporter": "python",
   "pygments_lexer": "ipython3",
   "version": "3.9.7"
  }
 },
 "nbformat": 4,
 "nbformat_minor": 5
}
